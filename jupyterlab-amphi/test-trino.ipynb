{
 "cells": [
  {
   "cell_type": "code",
   "execution_count": 1,
   "id": "7d4f135a-43ab-4a4a-8191-cad3337d225c",
   "metadata": {},
   "outputs": [],
   "source": [
    "import trino\n",
    "import pandas as pd"
   ]
  },
  {
   "cell_type": "code",
   "execution_count": 2,
   "id": "7a999df2-e25e-420a-90bb-26b4790fd1d7",
   "metadata": {},
   "outputs": [],
   "source": [
    "conn = trino.dbapi.connect(\n",
    "    host='10.168.6.104',\n",
    "    port='8082',\n",
    "    user='admin',\n",
    "    catalog='vnptlake_iceberg_hive',\n",
    "    schema='lake_ioc'\n",
    ")"
   ]
  },
  {
   "cell_type": "code",
   "execution_count": 3,
   "id": "5335e5e5-aa08-40f2-83a6-0e04d1d84224",
   "metadata": {},
   "outputs": [
    {
     "data": {
      "text/plain": [
       "<trino.dbapi.Cursor at 0x17c7f2e7390>"
      ]
     },
     "execution_count": 3,
     "metadata": {},
     "output_type": "execute_result"
    }
   ],
   "source": [
    "query = \"SELECT * FROM lake_ioc.data_covid_vn2\"\n",
    "cursor = conn.cursor()\n",
    "cursor.execute(query)"
   ]
  },
  {
   "cell_type": "code",
   "execution_count": 4,
   "id": "2bf43898-2680-4739-bef7-65752a695bf4",
   "metadata": {},
   "outputs": [],
   "source": [
    "conn.close()"
   ]
  },
  {
   "cell_type": "code",
   "execution_count": 5,
   "id": "879ce96b-0bc3-4dfc-b096-bdad60c5d197",
   "metadata": {},
   "outputs": [],
   "source": [
    "columns = [desc[0] for desc in cursor.description]\n",
    "data = cursor.fetchall()\n",
    "df = pd.DataFrame(data, columns=columns)"
   ]
  },
  {
   "cell_type": "code",
   "execution_count": 6,
   "id": "b3940fbe-8183-4ee2-85f4-165eee998d80",
   "metadata": {},
   "outputs": [
    {
     "name": "stdout",
     "output_type": "stream",
     "text": [
      "              name  death treating    cases recovered casestoday\n",
      "0           Hà Nội   1232        0  1646923         0          2\n",
      "1  TP. Hồ Chí Minh  19985        0   629018         0          3\n",
      "2        Hải Phòng    138        0   537527         0          5\n",
      "3          Nghệ An    145        0   502049         0         11\n",
      "4        Bắc Giang     92        0   391440         0          0\n"
     ]
    }
   ],
   "source": [
    "print(df.head())"
   ]
  },
  {
   "cell_type": "code",
   "execution_count": null,
   "id": "49d9b2bd-2951-4988-b13a-e63162ff9464",
   "metadata": {},
   "outputs": [],
   "source": []
  }
 ],
 "metadata": {
  "kernelspec": {
   "display_name": "Python 3 (ipykernel)",
   "language": "python",
   "name": "python3"
  },
  "language_info": {
   "codemirror_mode": {
    "name": "ipython",
    "version": 3
   },
   "file_extension": ".py",
   "mimetype": "text/x-python",
   "name": "python",
   "nbconvert_exporter": "python",
   "pygments_lexer": "ipython3",
   "version": "3.11.4"
  }
 },
 "nbformat": 4,
 "nbformat_minor": 5
}
